{
 "cells": [
  {
   "cell_type": "code",
   "execution_count": 5,
   "metadata": {},
   "outputs": [
    {
     "name": "stdout",
     "output_type": "stream",
     "text": [
      "1\n"
     ]
    }
   ],
   "source": [
    "print(1)"
   ]
  },
  {
   "cell_type": "code",
   "execution_count": 8,
   "metadata": {},
   "outputs": [
    {
     "name": "stdout",
     "output_type": "stream",
     "text": [
      "Boas-vindas millena\n"
     ]
    }
   ],
   "source": [
    "# EXERCÍCIOS DA AULA 5\n",
    "\n",
    "# 1 - Imprima uma mensagem de boas-vindas na tela.\n",
    "nome = input(\"Digite seu nome \")\n",
    "print(\"Boas-vindas\", nome)\n"
   ]
  },
  {
   "cell_type": "code",
   "execution_count": null,
   "metadata": {},
   "outputs": [
    {
     "name": "stdout",
     "output_type": "stream",
     "text": [
      "True\n",
      "<class 'bool'>\n"
     ]
    }
   ],
   "source": [
    "# 2 - Declare uma variável booleana verdadeiro\n",
    "# com o valor True e imprima seu tipo\n",
    "\n",
    "numero = 10\n",
    "valor = bool(numero)\n",
    "print(valor)\n",
    "\n",
    "tipo = type(valor)\n",
    "print(tipo)\n"
   ]
  },
  {
   "cell_type": "code",
   "execution_count": 14,
   "metadata": {},
   "outputs": [
    {
     "name": "stdout",
     "output_type": "stream",
     "text": [
      "35.0\n"
     ]
    }
   ],
   "source": [
    "#3 - Imprima o resultado da multiplicação de dois números decimais de sua escolha\n",
    "\n",
    "n1 = float(input(\"Digite um número: \"))\n",
    "n2 = float(input(\"Digite um número: \"))\n",
    "multiplicacao = n1 * n2\n",
    "print(multiplicacao)"
   ]
  },
  {
   "cell_type": "code",
   "execution_count": 15,
   "metadata": {},
   "outputs": [
    {
     "name": "stdout",
     "output_type": "stream",
     "text": [
      "3.0\n"
     ]
    }
   ],
   "source": [
    "#4 - Imprima o resultado da divisão de dois números inteiros \n",
    "# de sua escolha.\n",
    "\n",
    "n3 = float(input(\"Fale um número\"))\n",
    "n4 = float(input(\"Fale um número\"))\n",
    "div = n3 / n4\n",
    "print(div)"
   ]
  },
  {
   "cell_type": "code",
   "execution_count": 16,
   "metadata": {},
   "outputs": [
    {
     "name": "stdout",
     "output_type": "stream",
     "text": [
      "4.0\n"
     ]
    }
   ],
   "source": [
    "#5 - Imprima o resultado da subtração de dois números inteiros de sua escolha\n",
    "\n",
    "n5 = float(input(\"Digite um número: \"))\n",
    "n6 = float(input(\"Digite um número: \"))\n",
    "sub = n5 - n6\n",
    "print(sub)"
   ]
  },
  {
   "cell_type": "code",
   "execution_count": null,
   "metadata": {},
   "outputs": [],
   "source": [
    "#6 - Imprima o resultado da divisão inteira de dois números inteiros \n",
    "# de sua escolha.\n",
    "\n",
    "n7 = float(input(\"Fale um número: \"))\n",
    "n8 = float(input(\"Fale um número:\" ))\n",
    "div_int = n7 // n8\n",
    "print(div_int)\n",
    "\n"
   ]
  },
  {
   "cell_type": "code",
   "execution_count": 19,
   "metadata": {},
   "outputs": [
    {
     "name": "stdout",
     "output_type": "stream",
     "text": [
      "144.0\n"
     ]
    }
   ],
   "source": [
    "# 7- Imprima o resultado da multiplicação de 4 números \n",
    "# decimais de sua escolha\n",
    "\n",
    "n1 = float(input(\"Digite um número: \"))\n",
    "n2 = float(input(\"Digite um número: \"))\n",
    "n3 = float(input(\"Digite um número: \"))\n",
    "n4 = float(input(\"Digite um número: \"))\n",
    "\n",
    "mult = n1 * n2 * n3 * n4\n",
    "print(mult)"
   ]
  },
  {
   "cell_type": "code",
   "execution_count": 28,
   "metadata": {},
   "outputs": [
    {
     "name": "stdout",
     "output_type": "stream",
     "text": [
      "60\n"
     ]
    }
   ],
   "source": [
    "# 8- Declare uma variável numero e atribua um número inteiro. Em seguida, \n",
    "# imprima o dobro desse número\n",
    "\n",
    "numero = 30\n",
    "numero = (numero++30)\n",
    "print(numero)"
   ]
  },
  {
   "cell_type": "code",
   "execution_count": null,
   "metadata": {},
   "outputs": [
    {
     "name": "stdout",
     "output_type": "stream",
     "text": [
      "7\n",
      "9\n",
      "79\n"
     ]
    }
   ],
   "source": [
    "#9 - Crie uma calculadora de soma com as ferramentas que vc já conhece(Use apenas input, print e variavel)\n",
    "\n",
    "calc = input(\"Digite um numero: \")\n",
    "print(calc)\n",
    "cal = input(\"Digite outro numuro: \")\n",
    "print(cal)\n",
    "soma = calc + cal\n",
    "tipo = type(calc)\n",
    "print(soma)\n"
   ]
  },
  {
   "cell_type": "code",
   "execution_count": 27,
   "metadata": {},
   "outputs": [
    {
     "name": "stdout",
     "output_type": "stream",
     "text": [
      "mille\n"
     ]
    }
   ],
   "source": [
    "# 10- Crie um sistema de cadastro com as estruturas que vc já conhece(Use apenas input, print e variavel)\n",
    "\n",
    "cadastro = input(\"Inspire seu cadastro: \")\n",
    "print(cadastro)\n",
    "\n",
    "\n",
    "\n"
   ]
  }
 ],
 "metadata": {
  "kernelspec": {
   "display_name": "Python 3",
   "language": "python",
   "name": "python3"
  },
  "language_info": {
   "codemirror_mode": {
    "name": "ipython",
    "version": 3
   },
   "file_extension": ".py",
   "mimetype": "text/x-python",
   "name": "python",
   "nbconvert_exporter": "python",
   "pygments_lexer": "ipython3",
   "version": "3.12.7"
  }
 },
 "nbformat": 4,
 "nbformat_minor": 2
}
